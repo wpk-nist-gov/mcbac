{
 "cells": [
  {
   "cell_type": "code",
   "execution_count": 1,
   "id": "8617440a",
   "metadata": {},
   "outputs": [],
   "source": [
    "import pandas as pd\n",
    "import numpy as np\n",
    "from mcbac import CifHelper\n",
    "import mcbac"
   ]
  },
  {
   "cell_type": "markdown",
   "id": "4fe3a214",
   "metadata": {},
   "source": [
    "# Using pymatgen"
   ]
  },
  {
   "cell_type": "code",
   "execution_count": 2,
   "id": "7403ad32",
   "metadata": {},
   "outputs": [],
   "source": [
    "import pymatgen\n",
    "from pymatgen.io.cif import CifParser"
   ]
  },
  {
   "cell_type": "code",
   "execution_count": 3,
   "id": "3f079585",
   "metadata": {},
   "outputs": [],
   "source": [
    "# load cif and get dict\n",
    "p = CifParser('./Example.cif')\n",
    "d = p.as_dict()"
   ]
  },
  {
   "cell_type": "code",
   "execution_count": 4,
   "id": "9e4ee526",
   "metadata": {},
   "outputs": [],
   "source": [
    "# make helper object\n",
    "c = CifHelper(d['NiH16C24N2O5'])"
   ]
  },
  {
   "cell_type": "markdown",
   "id": "888c17b8",
   "metadata": {},
   "source": [
    "# from gemmi"
   ]
  },
  {
   "cell_type": "code",
   "execution_count": 5,
   "id": "b34a1d62",
   "metadata": {},
   "outputs": [],
   "source": [
    "import gemmi.cif\n",
    "import json"
   ]
  },
  {
   "cell_type": "code",
   "execution_count": 6,
   "id": "56a825f3",
   "metadata": {},
   "outputs": [],
   "source": [
    "# note that the File Example.cif has a weird header\n",
    "# this fixes that\n",
    "with open('./Example.cif','r') as f:\n",
    "    out = f.readlines()\n",
    "\n",
    "with open('./Example.gemmi.cif', 'w') as f:\n",
    "    f.writelines(out[1:])"
   ]
  },
  {
   "cell_type": "code",
   "execution_count": 7,
   "id": "4e165bda",
   "metadata": {},
   "outputs": [],
   "source": [
    "# or using gemmi\n",
    "g = gemmi.cif.read_file('./Example.gemmi.cif')\n",
    "\n",
    "d_gemmi = json.loads(g.as_json(lowercase_names=False))\n",
    "c2 = CifHelper(d_gemmi['NiH16C24N2O5'])"
   ]
  },
  {
   "cell_type": "code",
   "execution_count": null,
   "id": "af4343c8",
   "metadata": {},
   "outputs": [],
   "source": [
    "pd.testing.assert_frame_equal(c.nebr_stack(), c2.nebr_stack())"
   ]
  },
  {
   "cell_type": "markdown",
   "id": "4dfea2d9",
   "metadata": {},
   "source": [
    "# from methods"
   ]
  },
  {
   "cell_type": "code",
   "execution_count": null,
   "id": "789da6ba",
   "metadata": {},
   "outputs": [],
   "source": [
    "dict_of_objects_0 = CifHelper.from_pymatgen('./Example.cif')\n",
    "\n",
    "dc0 = dict_of_objects_0['NiH16C24N2O5']\n",
    "\n",
    "dict_of_objects_1 = CifHelper.from_gemmi('./Example.gemmi.cif', json_kws={'lowercase'})\n",
    "\n",
    "dc1 = dict_of_objects_1['nih16c24n2o5']"
   ]
  },
  {
   "cell_type": "code",
   "execution_count": null,
   "id": "4bf3fff9",
   "metadata": {},
   "outputs": [],
   "source": [
    "pd.testing.assert_frame_equal(c.nebr_stack(), dc0.nebr_stack())\n",
    "pd.testing.assert_frame_equal(c.nebr_stack(), dc1.nebr_stack())"
   ]
  },
  {
   "cell_type": "markdown",
   "id": "b4bb9738",
   "metadata": {},
   "source": [
    "# Basic functionality"
   ]
  },
  {
   "cell_type": "code",
   "execution_count": null,
   "id": "59956864",
   "metadata": {},
   "outputs": [],
   "source": [
    "# directly access things from cif file\n",
    "c['_cell_length_a']"
   ]
  },
  {
   "cell_type": "code",
   "execution_count": null,
   "id": "79c140a1",
   "metadata": {},
   "outputs": [],
   "source": [
    "# created renamers for easy access and float/array conversion \n",
    "# see class definition for more info\n",
    "print(c.a)"
   ]
  },
  {
   "cell_type": "code",
   "execution_count": null,
   "id": "ea97adf4",
   "metadata": {},
   "outputs": [],
   "source": [
    "help(c)"
   ]
  },
  {
   "cell_type": "markdown",
   "id": "41c7f1e6",
   "metadata": {},
   "source": [
    "## cartisian coords"
   ]
  },
  {
   "cell_type": "code",
   "execution_count": null,
   "id": "5998785c",
   "metadata": {},
   "outputs": [],
   "source": [
    "# coordinates -> c.coords\n",
    "# replicated coords -> c.coords_replicated(stack=?)"
   ]
  },
  {
   "cell_type": "markdown",
   "id": "0250a42c",
   "metadata": {},
   "source": [
    "## distance calc"
   ]
  },
  {
   "cell_type": "code",
   "execution_count": null,
   "id": "b465da7f",
   "metadata": {},
   "outputs": [],
   "source": [
    "# unstacked has shape (n, 27, n)\n",
    "# first dim is for coords, second for replicate id, third replicate atom id\n",
    "# if stacked, then shape = (n, 27 * n)\n",
    "c.distance_matrix(stack=True)"
   ]
  },
  {
   "cell_type": "markdown",
   "id": "4ac25307",
   "metadata": {},
   "source": [
    "## distance dataframe"
   ]
  },
  {
   "cell_type": "code",
   "execution_count": null,
   "id": "aeea1db4",
   "metadata": {},
   "outputs": [],
   "source": [
    "c.distance_frame"
   ]
  },
  {
   "cell_type": "markdown",
   "id": "02da33cf",
   "metadata": {},
   "source": [
    "## nearest neighbor frame"
   ]
  },
  {
   "cell_type": "code",
   "execution_count": null,
   "id": "498733ae",
   "metadata": {},
   "outputs": [],
   "source": [
    "c.nebr_frame(rcut_fac=1.25)"
   ]
  },
  {
   "cell_type": "markdown",
   "id": "2b1c75d3",
   "metadata": {},
   "source": [
    "## nebr of nebr frame"
   ]
  },
  {
   "cell_type": "code",
   "execution_count": null,
   "id": "aa7e9106",
   "metadata": {},
   "outputs": [],
   "source": [
    "# second neighbors of 'cntr' are in 'nebr_2nd'\n",
    "c.nebr_nebr_frame(rcut_fac=1.25)"
   ]
  },
  {
   "cell_type": "markdown",
   "id": "540d0065",
   "metadata": {},
   "source": [
    "## 0th, 1st, and 2nd neighbor keys"
   ]
  },
  {
   "cell_type": "code",
   "execution_count": null,
   "id": "9578aada",
   "metadata": {},
   "outputs": [],
   "source": [
    "c.nebr_stack()"
   ]
  },
  {
   "cell_type": "code",
   "execution_count": null,
   "id": "10ccbd32",
   "metadata": {},
   "outputs": [],
   "source": [
    "# test this is the same as from other code\n",
    "other = pd.read_csv('./Example.cif.dat.total.txt', header=None, sep='\\s+').values\n",
    "np.testing.assert_array_equal(c.nebr_stack().values, other)"
   ]
  },
  {
   "cell_type": "markdown",
   "id": "e720ff62",
   "metadata": {},
   "source": [
    "# Thats where I'm at.  Not sure what to do with the databases\n",
    "\n",
    "I don't understand what the shell script is trying to do.  The first read merge I get, but the other ones make no sense."
   ]
  },
  {
   "cell_type": "code",
   "execution_count": null,
   "id": "6a6e6f3f",
   "metadata": {},
   "outputs": [],
   "source": [
    "db_2 = mcbac.get_database_2()\n",
    "db_1 = mcbac.get_database_1()\n",
    "db_0 = mcbac.get_database_0()"
   ]
  },
  {
   "cell_type": "code",
   "execution_count": null,
   "id": "7d597c9e",
   "metadata": {},
   "outputs": [],
   "source": [
    "db_0.head()"
   ]
  },
  {
   "cell_type": "code",
   "execution_count": null,
   "id": "061d389d",
   "metadata": {},
   "outputs": [],
   "source": [
    "db_1.head()"
   ]
  },
  {
   "cell_type": "code",
   "execution_count": null,
   "id": "e06d8972",
   "metadata": {},
   "outputs": [],
   "source": [
    "(\n",
    "    c.nebr_stack()\n",
    "    .merge(db_0, how='left')\n",
    "    .merge(db_1, how='left')\n",
    "    .merge(db_2, how='left')\n",
    ")"
   ]
  },
  {
   "cell_type": "code",
   "execution_count": null,
   "id": "8f6ed60d",
   "metadata": {},
   "outputs": [],
   "source": []
  }
 ],
 "metadata": {
  "kernelspec": {
   "display_name": "Python [conda env:mcbac-env]",
   "language": "python",
   "name": "conda-env-mcbac-env-py"
  },
  "language_info": {
   "codemirror_mode": {
    "name": "ipython",
    "version": 3
   },
   "file_extension": ".py",
   "mimetype": "text/x-python",
   "name": "python",
   "nbconvert_exporter": "python",
   "pygments_lexer": "ipython3",
   "version": "3.8.10"
  },
  "toc": {
   "base_numbering": 1,
   "nav_menu": {},
   "number_sections": true,
   "sideBar": true,
   "skip_h1_title": false,
   "title_cell": "Table of Contents",
   "title_sidebar": "Contents",
   "toc_cell": false,
   "toc_position": {},
   "toc_section_display": true,
   "toc_window_display": true
  }
 },
 "nbformat": 4,
 "nbformat_minor": 5
}
